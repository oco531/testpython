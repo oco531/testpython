{
 "cells": [
  {
   "cell_type": "code",
   "execution_count": 6,
   "metadata": {
    "collapsed": false
   },
   "outputs": [
    {
     "name": "stdout",
     "output_type": "stream",
     "text": [
      "3.2: 1997\n",
      "3.3: 2015\n"
     ]
    }
   ],
   "source": [
    "years_list=[1980,1981,1982,1983,2015,1997,2010]\n",
    "print('3.2:',years_list[5])\n",
    "print('3.3:',years_list[-3])\n"
   ]
  },
  {
   "cell_type": "code",
   "execution_count": 43,
   "metadata": {
    "collapsed": false
   },
   "outputs": [
    {
     "name": "stdout",
     "output_type": "stream",
     "text": [
      "3.4: ['mozzarella', 'cin derella', 'salmonella']\n"
     ]
    }
   ],
   "source": [
    "things=[\"mozzarella\",\"cin derella\",\"salmonella\"]\n",
    "print('3.4:',things)"
   ]
  },
  {
   "cell_type": "code",
   "execution_count": 44,
   "metadata": {
    "collapsed": false
   },
   "outputs": [
    {
     "name": "stdout",
     "output_type": "stream",
     "text": [
      "3.5: ['mozzarella', 'Cin derella', 'salmonella']\n"
     ]
    }
   ],
   "source": [
    "things[1]=things[1].capitalize()\n",
    "print('3.5:',things)"
   ]
  },
  {
   "cell_type": "code",
   "execution_count": 45,
   "metadata": {
    "collapsed": false
   },
   "outputs": [
    {
     "name": "stdout",
     "output_type": "stream",
     "text": [
      "3.6: ['MOZZARELLA', 'Cin derella', 'salmonella']\n"
     ]
    }
   ],
   "source": [
    "things[0]=things[0].upper()\n",
    "print('3.6:',things)"
   ]
  },
  {
   "cell_type": "code",
   "execution_count": 46,
   "metadata": {
    "collapsed": false
   },
   "outputs": [
    {
     "name": "stdout",
     "output_type": "stream",
     "text": [
      "3.7: ['MOZZARELLA', 'Cin derella']\n"
     ]
    }
   ],
   "source": [
    "things.remove(\"salmonella\")\n",
    "print('3.7:',things)"
   ]
  },
  {
   "cell_type": "code",
   "execution_count": 6,
   "metadata": {
    "collapsed": false
   },
   "outputs": [
    {
     "name": "stdout",
     "output_type": "stream",
     "text": [
      "3.8: ['Good', 'Chico', 'Hari']\n"
     ]
    }
   ],
   "source": [
    "surprise=[\"Good\",\"Chico\",\"Hari\"]\n",
    "print('3.8:',surprise)"
   ]
  },
  {
   "cell_type": "code",
   "execution_count": 59,
   "metadata": {
    "collapsed": false
   },
   "outputs": [
    {
     "name": "stdout",
     "output_type": "stream",
     "text": [
      "3.9: oprah\n"
     ]
    }
   ],
   "source": [
    "surprise[2]=surprise[2].lower()\n",
    "surprise[2]=surprise[2][::-1]\n",
    "surprise[2].capitalize()\n",
    "print('3.9:',surprise[2])"
   ]
  },
  {
   "cell_type": "code",
   "execution_count": 4,
   "metadata": {
    "collapsed": false
   },
   "outputs": [
    {
     "name": "stdout",
     "output_type": "stream",
     "text": [
      "3.10: {'cat': 'chat', 'weak': 'morse', 'dog': 'coco'}\n"
     ]
    }
   ],
   "source": [
    "e2f={'dog':'coco','cat':'chat','weak':'morse'}\n",
    "print('3.10:',e2f)"
   ]
  },
  {
   "cell_type": "code",
   "execution_count": 5,
   "metadata": {
    "collapsed": false
   },
   "outputs": [
    {
     "name": "stdout",
     "output_type": "stream",
     "text": [
      "3.11: morse\n"
     ]
    }
   ],
   "source": [
    "print('3.11:',e2f['weak'])"
   ]
  },
  {
   "cell_type": "code",
   "execution_count": 125,
   "metadata": {
    "collapsed": false
   },
   "outputs": [
    {
     "name": "stdout",
     "output_type": "stream",
     "text": [
      "3.12: {'chat': 'cat', 'chien': 'dog', 'morse': 'walrus'}\n"
     ]
    }
   ],
   "source": [
    "f2e={}\n",
    "for english, french in e2f.items():\n",
    "    f2e[french]=english\n",
    "print('3.12:',f2e)"
   ]
  },
  {
   "cell_type": "code",
   "execution_count": 128,
   "metadata": {
    "collapsed": false
   },
   "outputs": [
    {
     "name": "stdout",
     "output_type": "stream",
     "text": [
      "3.13: dog\n"
     ]
    }
   ],
   "source": [
    "print('3.13:',f2e['chien'])"
   ]
  },
  {
   "cell_type": "code",
   "execution_count": 130,
   "metadata": {
    "collapsed": false
   },
   "outputs": [
    {
     "name": "stdout",
     "output_type": "stream",
     "text": [
      "3.14: {'walrus', 'dog', 'cat'}\n"
     ]
    }
   ],
   "source": [
    "print('3.14:',set(e2f.keys()))"
   ]
  },
  {
   "cell_type": "code",
   "execution_count": 1,
   "metadata": {
    "collapsed": false
   },
   "outputs": [
    {
     "name": "stdout",
     "output_type": "stream",
     "text": [
      "3.15: dict_keys(['animal', 'other', 'plants'])\n"
     ]
    }
   ],
   "source": [
    "life={'animal':{'cat':['Han','Gee','Lucy'],'octopi':{},'emus':{}},'plants':{},'other':{}}\n",
    "print('3.15:',life.keys())"
   ]
  },
  {
   "cell_type": "code",
   "execution_count": 135,
   "metadata": {
    "collapsed": false
   },
   "outputs": [
    {
     "name": "stdout",
     "output_type": "stream",
     "text": [
      "3.16: ['other', 'animal', 'plants']\n"
     ]
    }
   ],
   "source": [
    "print('3.16:',list(life.keys()))"
   ]
  },
  {
   "cell_type": "code",
   "execution_count": 139,
   "metadata": {
    "collapsed": false
   },
   "outputs": [
    {
     "name": "stdout",
     "output_type": "stream",
     "text": [
      "3.17: dict_keys(['emus', 'cat', 'octopi'])\n"
     ]
    }
   ],
   "source": [
    "print('3.17:',life['animal'].keys())"
   ]
  },
  {
   "cell_type": "code",
   "execution_count": 2,
   "metadata": {
    "collapsed": false
   },
   "outputs": [
    {
     "name": "stdout",
     "output_type": "stream",
     "text": [
      "3.18: ['Han', 'Gee', 'Lucy']\n"
     ]
    }
   ],
   "source": [
    "print('3.18:',life['animal']['cat'])"
   ]
  },
  {
   "cell_type": "code",
   "execution_count": null,
   "metadata": {
    "collapsed": true
   },
   "outputs": [],
   "source": []
  }
 ],
 "metadata": {
  "kernelspec": {
   "display_name": "Python 3",
   "language": "python",
   "name": "python3"
  },
  "language_info": {
   "codemirror_mode": {
    "name": "ipython",
    "version": 3
   },
   "file_extension": ".py",
   "mimetype": "text/x-python",
   "name": "python",
   "nbconvert_exporter": "python",
   "pygments_lexer": "ipython3",
   "version": "3.4.3"
  }
 },
 "nbformat": 4,
 "nbformat_minor": 0
}
